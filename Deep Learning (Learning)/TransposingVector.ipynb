{
 "cells": [
  {
   "cell_type": "code",
   "execution_count": 4,
   "metadata": {
    "collapsed": true
   },
   "outputs": [],
   "source": [
    "import numpy as np\n",
    "import torch"
   ]
  },
  {
   "cell_type": "code",
   "execution_count": 10,
   "outputs": [
    {
     "name": "stdout",
     "output_type": "stream",
     "text": [
      "[[1 2 3 4]]\n",
      "Transpose: \n",
      "[[1]\n",
      " [2]\n",
      " [3]\n",
      " [4]]\n",
      "Transpose the transpose: \n",
      "[[1 2 3 4]]\n"
     ]
    }
   ],
   "source": [
    "# create a vector\n",
    "nv = np.array([[1, 2, 3, 4]])\n",
    "print(nv)\n",
    "\n",
    "# transpose it\n",
    "print(\"Transpose: \")\n",
    "print(nv.T)\n",
    "\n",
    "# transpose the transpose!\n",
    "nvT = nv.T\n",
    "print(\"Transpose the transpose: \")\n",
    "print(nvT.T)"
   ],
   "metadata": {
    "collapsed": false
   }
  },
  {
   "cell_type": "code",
   "execution_count": 11,
   "outputs": [
    {
     "name": "stdout",
     "output_type": "stream",
     "text": [
      "[[1 2 3 4]\n",
      " [5 6 7 8]]\n",
      "Transpose: \n",
      "[[1 5]\n",
      " [2 6]\n",
      " [3 7]\n",
      " [4 8]]\n",
      "Transpose the transpose: \n",
      "[[1 2 3 4]\n",
      " [5 6 7 8]]\n"
     ]
    }
   ],
   "source": [
    "# create a matrix\n",
    "nM = np.array([[1, 2, 3, 4], [5, 6, 7, 8]])\n",
    "print(nM)\n",
    "\n",
    "# transpose it\n",
    "print(\"Transpose: \")\n",
    "print(nM.T)\n",
    "\n",
    "# transpose the transpose!\n",
    "nMT = nM.T\n",
    "print(\"Transpose the transpose: \")\n",
    "print(nMT.T)"
   ],
   "metadata": {
    "collapsed": false
   }
  },
  {
   "cell_type": "code",
   "execution_count": 13,
   "outputs": [
    {
     "name": "stdout",
     "output_type": "stream",
     "text": [
      "tensor([[1, 2, 3, 4]])\n",
      "Transpose: \n",
      "tensor([[1],\n",
      "        [2],\n",
      "        [3],\n",
      "        [4]])\n",
      "Transpose the transpose: \n",
      "tensor([[1, 2, 3, 4]])\n"
     ]
    }
   ],
   "source": [
    "# Same operations with pytorch.\n",
    "\n",
    "# create a vector\n",
    "tv = torch.tensor([[1, 2, 3, 4]])\n",
    "print(tv)\n",
    "\n",
    "# transpose it\n",
    "print(\"Transpose: \")\n",
    "print(tv.T)\n",
    "\n",
    "# transpose the transpose!\n",
    "tvT = tv.T\n",
    "print(\"Transpose the transpose: \")\n",
    "print(tvT.T)"
   ],
   "metadata": {
    "collapsed": false
   }
  },
  {
   "cell_type": "code",
   "execution_count": 14,
   "outputs": [
    {
     "name": "stdout",
     "output_type": "stream",
     "text": [
      "tensor([[1, 2, 3, 4],\n",
      "        [5, 6, 7, 8]])\n",
      "Transpose: \n",
      "tensor([[1, 5],\n",
      "        [2, 6],\n",
      "        [3, 7],\n",
      "        [4, 8]])\n",
      "Transpose the transpose: \n",
      "tensor([[1, 2, 3, 4],\n",
      "        [5, 6, 7, 8]])\n"
     ]
    }
   ],
   "source": [
    "# create a matrix\n",
    "tM = torch.tensor([[1, 2, 3, 4], [5, 6, 7, 8]])\n",
    "print(tM)\n",
    "\n",
    "# transpose it\n",
    "print(\"Transpose: \")\n",
    "print(tM.T)\n",
    "\n",
    "# transpose the transpose!\n",
    "tMT = tM.T\n",
    "print(\"Transpose the transpose: \")\n",
    "print(tMT.T)"
   ],
   "metadata": {
    "collapsed": false
   }
  },
  {
   "cell_type": "code",
   "execution_count": 15,
   "outputs": [
    {
     "name": "stdout",
     "output_type": "stream",
     "text": [
      "Variable nv is of type <class 'numpy.ndarray'>\n",
      "Variable nM is of type <class 'numpy.ndarray'>\n",
      "Variable tv is of type <class 'torch.Tensor'>\n",
      "Variable tM is of type <class 'torch.Tensor'>\n"
     ]
    }
   ],
   "source": [
    "print(f\"Variable nv is of type {type(nv)}\")\n",
    "print(f\"Variable nM is of type {type(nM)}\")\n",
    "print(f\"Variable tv is of type {type(tv)}\")\n",
    "print(f\"Variable tM is of type {type(tM)}\")"
   ],
   "metadata": {
    "collapsed": false
   }
  }
 ],
 "metadata": {
  "kernelspec": {
   "display_name": "Python 3",
   "language": "python",
   "name": "python3"
  },
  "language_info": {
   "codemirror_mode": {
    "name": "ipython",
    "version": 2
   },
   "file_extension": ".py",
   "mimetype": "text/x-python",
   "name": "python",
   "nbconvert_exporter": "python",
   "pygments_lexer": "ipython2",
   "version": "2.7.6"
  }
 },
 "nbformat": 4,
 "nbformat_minor": 0
}
