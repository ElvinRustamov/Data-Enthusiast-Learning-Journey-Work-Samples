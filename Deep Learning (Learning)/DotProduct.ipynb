{
 "cells": [
  {
   "cell_type": "code",
   "execution_count": 2,
   "metadata": {
    "collapsed": true
   },
   "outputs": [],
   "source": [
    "import numpy as np\n",
    "import torch"
   ]
  },
  {
   "cell_type": "code",
   "execution_count": 4,
   "outputs": [
    {
     "name": "stdout",
     "output_type": "stream",
     "text": [
      "-2\n",
      "-2\n"
     ]
    }
   ],
   "source": [
    "# Vectors\n",
    "nv1 = np.array([1, 2, 3, 4])\n",
    "nv2 = np.array([0, 1, 0, -1])\n",
    "\n",
    "# dot product via function\n",
    "print(np.dot(nv1, nv2))\n",
    "\n",
    "# dot product via computation\n",
    "print(np.sum(nv1*nv2))"
   ],
   "metadata": {
    "collapsed": false
   }
  },
  {
   "cell_type": "code",
   "execution_count": 5,
   "outputs": [
    {
     "name": "stdout",
     "output_type": "stream",
     "text": [
      "tensor(-2)\n",
      "tensor(-2)\n"
     ]
    }
   ],
   "source": [
    "#Using pytorch\n",
    "\n",
    "# Vectors\n",
    "tv1 = torch.tensor([1, 2, 3, 4])\n",
    "tv2 = torch.tensor([0, 1, 0, -1])\n",
    "\n",
    "# dot product via function\n",
    "print(torch.dot(tv1, tv2))\n",
    "\n",
    "# dot product via computation\n",
    "print(torch.sum(tv1*tv2))"
   ],
   "metadata": {
    "collapsed": false
   }
  },
  {
   "cell_type": "markdown",
   "source": [
    "### Iterpretation of the dot product\n",
    "\n",
    "A single number that reflects the commonalities between two objects (vectors, matrices, tensors, signals, images)"
   ],
   "metadata": {
    "collapsed": false
   }
  },
  {
   "cell_type": "code",
   "execution_count": null,
   "outputs": [],
   "source": [],
   "metadata": {
    "collapsed": false
   }
  }
 ],
 "metadata": {
  "kernelspec": {
   "display_name": "Python 3",
   "language": "python",
   "name": "python3"
  },
  "language_info": {
   "codemirror_mode": {
    "name": "ipython",
    "version": 2
   },
   "file_extension": ".py",
   "mimetype": "text/x-python",
   "name": "python",
   "nbconvert_exporter": "python",
   "pygments_lexer": "ipython2",
   "version": "2.7.6"
  }
 },
 "nbformat": 4,
 "nbformat_minor": 0
}
