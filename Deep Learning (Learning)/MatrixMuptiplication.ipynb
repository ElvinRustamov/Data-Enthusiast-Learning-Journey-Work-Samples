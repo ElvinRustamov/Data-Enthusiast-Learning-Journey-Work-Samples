{
 "cells": [
  {
   "cell_type": "code",
   "execution_count": 1,
   "metadata": {
    "collapsed": true
   },
   "outputs": [],
   "source": [
    "import numpy as np\n",
    "import torch"
   ]
  },
  {
   "cell_type": "code",
   "execution_count": 3,
   "outputs": [],
   "source": [
    "# MxN matrix (M = rows, N = columns)\n",
    "\n",
    "# MxN * NxK = MxK Note: first matrix columns shape must be equal second matrix rows shape."
   ],
   "metadata": {
    "collapsed": false
   }
  },
  {
   "cell_type": "code",
   "execution_count": 8,
   "outputs": [
    {
     "name": "stdout",
     "output_type": "stream",
     "text": [
      "[[ 0.42  1.   -0.31  0.47]\n",
      " [-0.46 -2.25 -1.26 -0.58]\n",
      " [-1.08  0.46  1.46  0.18]\n",
      " [-1.29  2.14  0.57  1.47]\n",
      " [ 1.23  1.34 -3.41  1.39]\n",
      " [ 0.22  1.24  1.54  0.04]\n",
      " [ 0.12  4.27  0.72  1.98]]\n"
     ]
    }
   ],
   "source": [
    "# create some random matrices\n",
    "\n",
    "A = np.random.randn(3, 4)\n",
    "B = np.random.randn(4, 5)\n",
    "C = np.random.randn(3, 7)\n",
    "\n",
    "# print(np.round(A@B, 2)) #@ -> matrix multiplication\n",
    "# print(np.round(A@C, 2)) # Error.\n",
    "# print(np.round(B@C, 2)) # Error.\n",
    "print(np.round(C.T@A, 2))"
   ],
   "metadata": {
    "collapsed": false
   }
  },
  {
   "cell_type": "code",
   "execution_count": 14,
   "outputs": [
    {
     "name": "stdout",
     "output_type": "stream",
     "text": [
      "tensor([[ 0.1900,  1.1000,  0.7900, -0.3400,  0.4600,  0.2100, -3.2800],\n",
      "        [-0.1900, -0.0800, -0.9200, -0.5200, -0.1200, -0.3400, -0.2500],\n",
      "        [ 0.9200,  0.3100,  2.2700,  1.7600,  1.3900, -0.3600, -0.6500]])\n"
     ]
    }
   ],
   "source": [
    "# using pytorch\n",
    "# create some random matrices\n",
    "\n",
    "A = torch.randn(3, 4)\n",
    "B = torch.randn(4, 5)\n",
    "C = np.random.randn(4, 7)\n",
    "C1 = torch.tensor(C, dtype=torch.float)\n",
    "\n",
    "\n",
    "# print(np.round(A@B, 2))\n",
    "# print(np.round(A@C, 2))\n",
    "# print(np.round(A@C1, 2))\n",
    "# print(np.round(B@C, 2))"
   ],
   "metadata": {
    "collapsed": false
   }
  }
 ],
 "metadata": {
  "kernelspec": {
   "display_name": "Python 3",
   "language": "python",
   "name": "python3"
  },
  "language_info": {
   "codemirror_mode": {
    "name": "ipython",
    "version": 2
   },
   "file_extension": ".py",
   "mimetype": "text/x-python",
   "name": "python",
   "nbconvert_exporter": "python",
   "pygments_lexer": "ipython2",
   "version": "2.7.6"
  }
 },
 "nbformat": 4,
 "nbformat_minor": 0
}
